{
 "cells": [
  {
   "cell_type": "code",
   "execution_count": 1,
   "id": "fleet-arkansas",
   "metadata": {},
   "outputs": [
    {
     "name": "stderr",
     "output_type": "stream",
     "text": [
      "Using TensorFlow backend.\n"
     ]
    }
   ],
   "source": [
    "import tensorflow as tf\n",
    "from keras.preprocessing.image import ImageDataGenerator"
   ]
  },
  {
   "cell_type": "code",
   "execution_count": 2,
   "id": "arranged-motorcycle",
   "metadata": {},
   "outputs": [],
   "source": [
    "training = r'C:\\Users\\jatin\\Desktop\\archive (1)\\real_vs_fake\\real-vs-fake\\train' \n",
    "test  = r'C:\\Users\\jatin\\Desktop\\archive (1)\\real_vs_fake\\real-vs-fake\\valid'"
   ]
  },
  {
   "cell_type": "code",
   "execution_count": 3,
   "id": "realistic-indie",
   "metadata": {},
   "outputs": [
    {
     "name": "stdout",
     "output_type": "stream",
     "text": [
      "Found 100000 images belonging to 2 classes.\n"
     ]
    }
   ],
   "source": [
    "train_datagen = ImageDataGenerator(rescale = 1./255,\n",
    "                                   shear_range = 0.2,\n",
    "                                   zoom_range = 0.2,\n",
    "                                   horizontal_flip = True)\n",
    "training_set = train_datagen.flow_from_directory(training,\n",
    "                                                 target_size = (64, 64),\n",
    "                                                 batch_size = 32,\n",
    "                                                 class_mode = 'binary')"
   ]
  },
  {
   "cell_type": "code",
   "execution_count": 4,
   "id": "vertical-radius",
   "metadata": {},
   "outputs": [
    {
     "name": "stdout",
     "output_type": "stream",
     "text": [
      "Found 20000 images belonging to 2 classes.\n"
     ]
    }
   ],
   "source": [
    "test_datagen = ImageDataGenerator(rescale = 1./255)\n",
    "test_set = test_datagen.flow_from_directory(test,\n",
    "                                            target_size = (64, 64),\n",
    "                                            batch_size = 32,\n",
    "                                            class_mode = 'binary')"
   ]
  },
  {
   "cell_type": "code",
   "execution_count": 5,
   "id": "prescribed-bottom",
   "metadata": {},
   "outputs": [],
   "source": [
    "cnn = tf.keras.models.Sequential()"
   ]
  },
  {
   "cell_type": "code",
   "execution_count": 6,
   "id": "quality-float",
   "metadata": {},
   "outputs": [],
   "source": [
    "cnn.add(tf.keras.layers.Conv2D(filters=32, kernel_size=3, activation='relu', input_shape=[64, 64, 3]))\n"
   ]
  },
  {
   "cell_type": "code",
   "execution_count": 7,
   "id": "controlling-earth",
   "metadata": {},
   "outputs": [],
   "source": [
    "cnn.add(tf.keras.layers.MaxPool2D(pool_size=2, strides=2))\n"
   ]
  },
  {
   "cell_type": "code",
   "execution_count": 8,
   "id": "speaking-watershed",
   "metadata": {},
   "outputs": [],
   "source": [
    "\n",
    "cnn.add(tf.keras.layers.Conv2D(filters=32, kernel_size=3, activation='relu'))\n",
    "cnn.add(tf.keras.layers.MaxPool2D(pool_size=2, strides=2))"
   ]
  },
  {
   "cell_type": "code",
   "execution_count": 9,
   "id": "stuffed-cyprus",
   "metadata": {},
   "outputs": [],
   "source": [
    "cnn.add(tf.keras.layers.Flatten())"
   ]
  },
  {
   "cell_type": "code",
   "execution_count": 10,
   "id": "australian-remains",
   "metadata": {},
   "outputs": [],
   "source": [
    "cnn.add(tf.keras.layers.Dense(units=128, activation='relu'))\n"
   ]
  },
  {
   "cell_type": "code",
   "execution_count": 11,
   "id": "characteristic-compound",
   "metadata": {},
   "outputs": [],
   "source": [
    "cnn.add(tf.keras.layers.Dense(units=128, activation='relu'))\n"
   ]
  },
  {
   "cell_type": "code",
   "execution_count": 12,
   "id": "functional-christianity",
   "metadata": {},
   "outputs": [],
   "source": [
    "cnn.add(tf.keras.layers.Dropout(0.5))\n"
   ]
  },
  {
   "cell_type": "code",
   "execution_count": 13,
   "id": "spread-watson",
   "metadata": {},
   "outputs": [],
   "source": [
    "cnn.add(tf.keras.layers.Dense(units=1, activation='sigmoid'))\n"
   ]
  },
  {
   "cell_type": "code",
   "execution_count": 14,
   "id": "essential-samoa",
   "metadata": {},
   "outputs": [],
   "source": [
    "opt = tf.keras.optimizers.Adam(learning_rate=0.0002)\n"
   ]
  },
  {
   "cell_type": "code",
   "execution_count": 15,
   "id": "vietnamese-webcam",
   "metadata": {},
   "outputs": [],
   "source": [
    "cnn.compile(optimizer =opt , loss = 'binary_crossentropy', metrics = ['accuracy'])\n"
   ]
  },
  {
   "cell_type": "code",
   "execution_count": 16,
   "id": "sustainable-auction",
   "metadata": {},
   "outputs": [
    {
     "name": "stdout",
     "output_type": "stream",
     "text": [
      "Epoch 1/15\n",
      "3125/3125 [==============================] - 327s 105ms/step - loss: 0.5775 - accuracy: 0.6942 - val_loss: 0.5337 - val_accuracy: 0.7348\n",
      "Epoch 2/15\n",
      "3125/3125 [==============================] - 377s 121ms/step - loss: 0.4850 - accuracy: 0.7687 - val_loss: 0.4346 - val_accuracy: 0.8018\n",
      "Epoch 3/15\n",
      "3125/3125 [==============================] - 818s 262ms/step - loss: 0.4381 - accuracy: 0.7994 - val_loss: 0.3753 - val_accuracy: 0.8341\n",
      "Epoch 4/15\n",
      "3125/3125 [==============================] - 763s 244ms/step - loss: 0.3976 - accuracy: 0.8221 - val_loss: 0.3521 - val_accuracy: 0.8467\n",
      "Epoch 5/15\n",
      "3125/3125 [==============================] - 335s 107ms/step - loss: 0.3664 - accuracy: 0.8388 - val_loss: 0.3251 - val_accuracy: 0.8594\n",
      "Epoch 6/15\n",
      "3125/3125 [==============================] - 337s 108ms/step - loss: 0.3404 - accuracy: 0.8519 - val_loss: 0.3158 - val_accuracy: 0.8648 - loss: 0.3405 - accuracy - ETA: 2s - loss: 0.3405 - accuracy - ETA: 2s - loss: 0.3405 - accura - E\n",
      "Epoch 7/15\n",
      "3125/3125 [==============================] - 338s 108ms/step - loss: 0.3212 - accuracy: 0.8611 - val_loss: 0.2963 - val_accuracy: 0.8735\n",
      "Epoch 8/15\n",
      "3125/3125 [==============================] - 402s 129ms/step - loss: 0.2991 - accuracy: 0.8733 - val_loss: 0.2963 - val_accuracy: 0.8723\n",
      "Epoch 9/15\n",
      "3125/3125 [==============================] - 370s 119ms/step - loss: 0.2830 - accuracy: 0.8817 - val_loss: 0.2870 - val_accuracy: 0.8765\n",
      "Epoch 10/15\n",
      "3125/3125 [==============================] - 339s 108ms/step - loss: 0.2687 - accuracy: 0.8870 - val_loss: 0.2646 - val_accuracy: 0.8881\n",
      "Epoch 11/15\n",
      "3125/3125 [==============================] - 352s 113ms/step - loss: 0.2588 - accuracy: 0.8931 - val_loss: 0.2521 - val_accuracy: 0.8946\n",
      "Epoch 12/15\n",
      "3125/3125 [==============================] - 325s 104ms/step - loss: 0.2451 - accuracy: 0.8988 - val_loss: 0.2686 - val_accuracy: 0.8863\n",
      "Epoch 13/15\n",
      "3125/3125 [==============================] - 326s 104ms/step - loss: 0.2363 - accuracy: 0.9030 - val_loss: 0.2195 - val_accuracy: 0.9100oss: 0.2362 - accuracy\n",
      "Epoch 14/15\n",
      "3125/3125 [==============================] - 326s 104ms/step - loss: 0.2262 - accuracy: 0.9083 - val_loss: 0.2284 - val_accuracy: 0.9068\n",
      "Epoch 15/15\n",
      "3125/3125 [==============================] - 325s 104ms/step - loss: 0.2144 - accuracy: 0.9127 - val_loss: 0.2212 - val_accuracy: 0.9104\n"
     ]
    },
    {
     "data": {
      "text/plain": [
       "<tensorflow.python.keras.callbacks.History at 0x2cbb2c16640>"
      ]
     },
     "execution_count": 16,
     "metadata": {},
     "output_type": "execute_result"
    }
   ],
   "source": [
    "cnn.fit(x = training_set, validation_data = test_set, epochs = 15)\n"
   ]
  },
  {
   "cell_type": "code",
   "execution_count": 17,
   "id": "engaging-strand",
   "metadata": {},
   "outputs": [],
   "source": [
    "import numpy as np\n",
    "from keras.preprocessing import image\n",
    "test_image = image.load_img(r'C:\\Users\\jatin\\Desktop\\archive (1)\\real_vs_fake\\real-vs-fake\\test\\fake\\jatin.png', target_size = (64, 64))\n",
    "test_image = image.img_to_array(test_image)\n",
    "test_image = np.expand_dims(test_image, axis = 0)\n",
    "result = cnn.predict(test_image)\n",
    "training_set.class_indices\n",
    "if result[0][0] == 1:\n",
    "  prediction = 'real'\n",
    "else:\n",
    "  prediction = 'Fake'"
   ]
  },
  {
   "cell_type": "code",
   "execution_count": 18,
   "id": "prerequisite-boating",
   "metadata": {},
   "outputs": [
    {
     "name": "stdout",
     "output_type": "stream",
     "text": [
      "real\n"
     ]
    }
   ],
   "source": [
    "print(prediction)"
   ]
  }
 ],
 "metadata": {
  "kernelspec": {
   "display_name": "Python 3",
   "language": "python",
   "name": "python3"
  },
  "language_info": {
   "codemirror_mode": {
    "name": "ipython",
    "version": 3
   },
   "file_extension": ".py",
   "mimetype": "text/x-python",
   "name": "python",
   "nbconvert_exporter": "python",
   "pygments_lexer": "ipython3",
   "version": "3.6.12"
  }
 },
 "nbformat": 4,
 "nbformat_minor": 5
}
